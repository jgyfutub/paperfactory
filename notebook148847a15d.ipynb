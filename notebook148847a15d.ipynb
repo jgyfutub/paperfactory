{
 "cells": [
  {
   "cell_type": "code",
   "execution_count": 1,
   "id": "e28cfdf7",
   "metadata": {
    "_cell_guid": "b1076dfc-b9ad-4769-8c92-a6c4dae69d19",
    "_uuid": "8f2839f25d086af736a60e9eeb907d3b93b6e0e5",
    "execution": {
     "iopub.execute_input": "2022-11-02T13:22:52.590377Z",
     "iopub.status.busy": "2022-11-02T13:22:52.589728Z",
     "iopub.status.idle": "2022-11-02T13:24:28.717081Z",
     "shell.execute_reply": "2022-11-02T13:24:28.716038Z"
    },
    "papermill": {
     "duration": 96.139458,
     "end_time": "2022-11-02T13:24:28.723670",
     "exception": false,
     "start_time": "2022-11-02T13:22:52.584212",
     "status": "completed"
    },
    "tags": []
   },
   "outputs": [
    {
     "name": "stdout",
     "output_type": "stream",
     "text": [
      "[0. 0. 0. ... 0. 0. 0.]\n"
     ]
    }
   ],
   "source": [
    "# This Python 3 environment comes with many helpful analytics libraries installed\n",
    "# It is defined by the kaggle/python Docker image: https://github.com/kaggle/docker-python\n",
    "# For example, here's several helpful packages to load\n",
    "\n",
    "import numpy as np # linear algebra\n",
    "import pandas as pd # data processing, CSV file I/O (e.g. pd.read_csv)\n",
    "from sklearn.preprocessing import LabelEncoder\n",
    "# Input data files are available in the read-only \"../input/\" directory\n",
    "# For example, running this (by clicking run or pressing Shift+Enter) will list all files under the input directory\n",
    "import csv\n",
    "import os\n",
    "from sklearn.linear_model import LogisticRegression\n",
    "from sklearn.model_selection import train_test_split\n",
    "for dirname, _, filenames in os.walk('/kaggle/input'):\n",
    "    for filename in filenames:\n",
    "        os.path.join(dirname, filename)\n",
    "sample_submission=pd.read_csv('/kaggle/input/patient-healthcare/sample_submission.csv')\n",
    "train=pd.read_csv('/kaggle/input/patient-healthcare/train.csv')\n",
    "test=pd.read_csv('/kaggle/input/patient-healthcare/test.csv',index_col=False)\n",
    "for name in train.select_dtypes(exclude='number').columns:\n",
    "    le=LabelEncoder()\n",
    "    label = le.fit_transform(train[name])\n",
    "    train.drop(name, axis=1, inplace=True)\n",
    "    train[name] = label\n",
    "for name in test.select_dtypes(exclude='number').columns:\n",
    "    le=LabelEncoder()\n",
    "    label = le.fit_transform(test[name])\n",
    "    test.drop(name, axis=1, inplace=True)\n",
    "    test[name] = label\n",
    "# train=train.dropna(axis=0,how='any')\n",
    "# test=test.dropna(axis=0,how='any')\n",
    "train=train.interpolate(method='linear',limit_direction='forward')\n",
    "test=test.interpolate(method='linear',limit_direction='forward')\n",
    "train_y=train['has_died']\n",
    "train.pop('has_died')\n",
    "ids=test['patient_id']\n",
    "test=np.asarray(test).astype(np.float32)\n",
    "train=np.asarray(train).astype(np.float32)\n",
    "train_y=np.asarray(train_y).astype(np.float32)\n",
    "train_X, test_X, train_Y, test_y = train_test_split(train, train_y, test_size=0.1, random_state=10)\n",
    "clf=LogisticRegression(random_state=0,solver='lbfgs', max_iter=10000).fit(train_X, train_Y)\n",
    "arr=clf.predict(test)\n",
    "print(arr)\n",
    "filename = \"records.csv\"\n",
    "with open(filename, 'w') as csvfile: \n",
    "    csvwriter = csv.writer(csvfile) \n",
    "    csvwriter.writerow(['patient_id','has_died'])\n",
    "    i=0\n",
    "    for id in ids:\n",
    "        csvwriter.writerows([[id],[arr[i]]])\n",
    "# You can write up to 20GB to the current directory (/kaggle/working/) that gets preserved as output when you create a version using \"Save & Run All\" \n",
    "# You can also write temporary files to /kaggle/temp/, but they won't be saved outside of the current session"
   ]
  },
  {
   "cell_type": "code",
   "execution_count": 2,
   "id": "e2d08e5c",
   "metadata": {
    "execution": {
     "iopub.execute_input": "2022-11-02T13:24:28.730836Z",
     "iopub.status.busy": "2022-11-02T13:24:28.729918Z",
     "iopub.status.idle": "2022-11-02T13:24:28.739066Z",
     "shell.execute_reply": "2022-11-02T13:24:28.737930Z"
    },
    "papermill": {
     "duration": 0.015139,
     "end_time": "2022-11-02T13:24:28.741425",
     "exception": false,
     "start_time": "2022-11-02T13:24:28.726286",
     "status": "completed"
    },
    "tags": []
   },
   "outputs": [
    {
     "data": {
      "text/plain": [
       "27514"
      ]
     },
     "execution_count": 2,
     "metadata": {},
     "output_type": "execute_result"
    }
   ],
   "source": [
    "len(arr)"
   ]
  },
  {
   "cell_type": "code",
   "execution_count": 3,
   "id": "e4405aa6",
   "metadata": {
    "execution": {
     "iopub.execute_input": "2022-11-02T13:24:28.748320Z",
     "iopub.status.busy": "2022-11-02T13:24:28.747887Z",
     "iopub.status.idle": "2022-11-02T13:24:28.841049Z",
     "shell.execute_reply": "2022-11-02T13:24:28.840147Z"
    },
    "papermill": {
     "duration": 0.099578,
     "end_time": "2022-11-02T13:24:28.843736",
     "exception": false,
     "start_time": "2022-11-02T13:24:28.744158",
     "status": "completed"
    },
    "tags": []
   },
   "outputs": [],
   "source": [
    "record=pd.read_csv('records.csv')\n",
    "recording=record[record['patient_id'].eq(0.0)].index\n",
    "record.drop(recording, inplace=True)\n",
    "record.drop(labels='has_died', axis=\"columns\", inplace=True)\n",
    "record['has_died']=arr\n",
    "record.to_csv('/kaggle/working/records.csv')"
   ]
  },
  {
   "cell_type": "code",
   "execution_count": 4,
   "id": "4e0cb04c",
   "metadata": {
    "execution": {
     "iopub.execute_input": "2022-11-02T13:24:28.850075Z",
     "iopub.status.busy": "2022-11-02T13:24:28.849683Z",
     "iopub.status.idle": "2022-11-02T13:24:28.856732Z",
     "shell.execute_reply": "2022-11-02T13:24:28.855397Z"
    },
    "papermill": {
     "duration": 0.013079,
     "end_time": "2022-11-02T13:24:28.859257",
     "exception": false,
     "start_time": "2022-11-02T13:24:28.846178",
     "status": "completed"
    },
    "tags": []
   },
   "outputs": [
    {
     "data": {
      "text/plain": [
       "27514"
      ]
     },
     "execution_count": 4,
     "metadata": {},
     "output_type": "execute_result"
    }
   ],
   "source": [
    "len(record)"
   ]
  }
 ],
 "metadata": {
  "kernelspec": {
   "display_name": "Python 3",
   "language": "python",
   "name": "python3"
  },
  "language_info": {
   "codemirror_mode": {
    "name": "ipython",
    "version": 3
   },
   "file_extension": ".py",
   "mimetype": "text/x-python",
   "name": "python",
   "nbconvert_exporter": "python",
   "pygments_lexer": "ipython3",
   "version": "3.7.12"
  },
  "papermill": {
   "default_parameters": {},
   "duration": 106.473802,
   "end_time": "2022-11-02T13:24:29.684039",
   "environment_variables": {},
   "exception": null,
   "input_path": "__notebook__.ipynb",
   "output_path": "__notebook__.ipynb",
   "parameters": {},
   "start_time": "2022-11-02T13:22:43.210237",
   "version": "2.3.4"
  }
 },
 "nbformat": 4,
 "nbformat_minor": 5
}
